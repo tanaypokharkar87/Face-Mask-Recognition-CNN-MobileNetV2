{
 "cells": [
  {
   "cell_type": "code",
   "execution_count": 1,
   "id": "f5705651",
   "metadata": {},
   "outputs": [
    {
     "name": "stdout",
     "output_type": "stream",
     "text": [
      "Requirement already satisfied: opencv-python in c:\\users\\saumya thakur\\anaconda3\\envs\\tensorflow\\lib\\site-packages (4.5.5.64)\n",
      "Requirement already satisfied: numpy>=1.19.3 in c:\\users\\saumya thakur\\anaconda3\\envs\\tensorflow\\lib\\site-packages (from opencv-python) (1.22.3)\n"
     ]
    }
   ],
   "source": [
    "!pip install opencv-python"
   ]
  },
  {
   "cell_type": "code",
   "execution_count": 2,
   "id": "abd62818",
   "metadata": {},
   "outputs": [],
   "source": [
    "import cv2"
   ]
  },
  {
   "cell_type": "code",
   "execution_count": 3,
   "id": "b02eac95",
   "metadata": {},
   "outputs": [],
   "source": [
    "import os\n",
    "import tensorflow as tf\n",
    "from tensorflow.keras.preprocessing.image import img_to_array\n",
    "from tensorflow.keras.models import load_model\n",
    "from tensorflow.keras.applications.mobilenet_v2 import preprocess_input\n",
    "import numpy as np\n",
    "\n",
    "%config Completer.use_jedi = False"
   ]
  },
  {
   "cell_type": "code",
   "execution_count": 4,
   "id": "d055f623",
   "metadata": {},
   "outputs": [],
   "source": [
    "face_classifier = cv2.CascadeClassifier(cv2.data.haarcascades + 'haarcascade_frontalface_default.xml')\n",
    "mask_detection = tf.keras.models.load_model(\"mask_detection_best.h5\")"
   ]
  },
  {
   "cell_type": "code",
   "execution_count": 5,
   "id": "3c98e010",
   "metadata": {},
   "outputs": [],
   "source": [
    "text_mask = \"Mask On\"\n",
    "text_no_mask = \"Mask Off\"\n",
    "font = cv2.FONT_HERSHEY_SIMPLEX\n",
    "scale = 0.8"
   ]
  },
  {
   "cell_type": "code",
   "execution_count": 6,
   "id": "7b33e458",
   "metadata": {},
   "outputs": [],
   "source": [
    "def predict(image):\n",
    "    \n",
    "    face_frame = cv2.cvtColor(image, cv2.COLOR_BGR2RGB)\n",
    "    face_frame = cv2.resize(face_frame, (224, 224))\n",
    "    face_frame = img_to_array(face_frame)\n",
    "    face_frame = np.expand_dims(face_frame, axis=0)\n",
    "    face_frame =  preprocess_input(face_frame)\n",
    "    prediction = mask_detection.predict(face_frame)\n",
    "    \n",
    "    return prediction[0][0]"
   ]
  },
  {
   "cell_type": "code",
   "execution_count": 7,
   "id": "3f4e0445",
   "metadata": {},
   "outputs": [],
   "source": [
    "def detector(gray_image, frame):\n",
    "    \n",
    "    faces = face_classifier.detectMultiScale(gray_image, 1.1, 5)\n",
    "    \n",
    "    for (x,y,w,h) in faces:\n",
    "\n",
    "        roi_color = frame[y:y+h, x:x+w]\n",
    "        mask = predict(roi_color)\n",
    "\n",
    "        \n",
    "        if mask > 0.5:\n",
    "            cv2.rectangle(frame, (x, y), (x+w, y+h), (0,255,0), 2)\n",
    "            cv2.putText(frame, text =text_mask, org =(x+50,y-100), fontFace =font, fontScale = scale, color =(0,255,0),\n",
    "            thickness = 2)\n",
    "        \n",
    "        elif mask<=0.5:\n",
    "            cv2.rectangle(frame, (x, y), (x+w, y+h), (0,0,255), 2)\n",
    "            cv2.putText(frame, text =text_no_mask, org =(x+50,y-100), fontFace =font, fontScale = scale , color =(0,0,255),\n",
    "            thickness = 2)\n",
    "            \n",
    "    return frame"
   ]
  },
  {
   "cell_type": "code",
   "execution_count": null,
   "id": "78daeb03",
   "metadata": {},
   "outputs": [],
   "source": [
    "video_cap = cv2.VideoCapture(0)\n",
    "\n",
    "while True:\n",
    "    \n",
    "    ret, frame = video_cap.read()\n",
    "    gray_frame = cv2.cvtColor(frame, cv2.COLOR_BGR2GRAY)\n",
    "     \n",
    "    detect = detector(gray_frame, frame)\n",
    "    \n",
    "    cv2.imshow(\"Video\", detect)\n",
    "    \n",
    "    if cv2.waitKey(1) & 0xFF == ord(\"q\"):\n",
    "        break\n",
    "        \n",
    "video_cap.release()\n",
    "cv2.destroyAllWindows()"
   ]
  },
  {
   "cell_type": "code",
   "execution_count": null,
   "id": "e9e19d5b",
   "metadata": {},
   "outputs": [],
   "source": []
  }
 ],
 "metadata": {
  "kernelspec": {
   "display_name": "Python 3 (ipykernel)",
   "language": "python",
   "name": "python3"
  },
  "language_info": {
   "codemirror_mode": {
    "name": "ipython",
    "version": 3
   },
   "file_extension": ".py",
   "mimetype": "text/x-python",
   "name": "python",
   "nbconvert_exporter": "python",
   "pygments_lexer": "ipython3",
   "version": "3.9.12"
  }
 },
 "nbformat": 4,
 "nbformat_minor": 5
}
